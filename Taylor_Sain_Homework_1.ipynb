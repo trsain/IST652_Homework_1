{
 "cells": [
  {
   "cell_type": "code",
   "execution_count": 4,
   "id": "a93cc6b3-97c0-4c00-b6d2-4ca3e213911e",
   "metadata": {},
   "outputs": [
    {
     "data": {
      "text/plain": [
       "(50434, 7)"
      ]
     },
     "execution_count": 4,
     "metadata": {},
     "output_type": "execute_result"
    }
   ],
   "source": [
    "#Created by: Taylor Sain\n",
    "#Date: 11/05/2021\n",
    "#Description:\n",
    "\n",
    "\n",
    "import pandas as pd\n",
    "import numpy as np\n",
    "\n",
    "#create variable for steam_charts\n",
    "infile = 'steam_charts.csv'  \n",
    "\n",
    "#Read the steam chart data into a dataframe using comma as the separator.\n",
    "chartdf = pd.read_csv(infile, sep = ',')\n",
    "\n",
    "#read rows by columns\n",
    "chartdf.shape"
   ]
  },
  {
   "cell_type": "code",
   "execution_count": 15,
   "id": "b281a00a-8c38-452c-97b6-d37d5bd245b0",
   "metadata": {},
   "outputs": [],
   "source": [
    "#find the max value of the Avg. Amount of Players\n",
    "max_AvgPlayers = chartdf['Avg. Players'].max()\n",
    "\n",
    "#find the index of the max value of the Avg. Amount of Players\n",
    "max_AvgPlayers_index = chartdf['Avg. Players'].idxmax()\n"
   ]
  },
  {
   "cell_type": "code",
   "execution_count": 18,
   "id": "b797b68e-3d03-48f3-b294-421bb3508284",
   "metadata": {},
   "outputs": [],
   "source": [
    "max_month = chartdf['Month'].loc[max_AvgPlayers_index]"
   ]
  },
  {
   "cell_type": "code",
   "execution_count": 17,
   "id": "922001ee-d2ef-4809-a539-ccd536e29e97",
   "metadata": {},
   "outputs": [],
   "source": [
    "max_game = chartdf['Game'].loc[max_AvgPlayers_index]"
   ]
  },
  {
   "cell_type": "code",
   "execution_count": 24,
   "id": "c7d723a0-44bb-40ab-a015-433dec69a776",
   "metadata": {},
   "outputs": [
    {
     "name": "stdout",
     "output_type": "stream",
     "text": [
      "The game: PUBG: BATTLEGROUNDS had the highest average number of players, 1584886.77 , in January 2018 .\n"
     ]
    }
   ],
   "source": [
    "#print the month/year and game of the highest average players\n",
    "print('The game:',max_game, 'had the highest average number of players,', max_AvgPlayers,', in',max_month,'.')"
   ]
  },
  {
   "cell_type": "code",
   "execution_count": null,
   "id": "5a9e122f-3a33-435f-bbe5-0037e539f500",
   "metadata": {},
   "outputs": [],
   "source": []
  }
 ],
 "metadata": {
  "kernelspec": {
   "display_name": "Python 3",
   "language": "python",
   "name": "python3"
  },
  "language_info": {
   "codemirror_mode": {
    "name": "ipython",
    "version": 3
   },
   "file_extension": ".py",
   "mimetype": "text/x-python",
   "name": "python",
   "nbconvert_exporter": "python",
   "pygments_lexer": "ipython3",
   "version": "3.8.8"
  }
 },
 "nbformat": 4,
 "nbformat_minor": 5
}
